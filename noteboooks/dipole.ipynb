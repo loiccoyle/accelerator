{
 "cells": [
  {
   "cell_type": "code",
   "execution_count": 1,
   "metadata": {},
   "outputs": [],
   "source": [
    "from accelerator.elements.dipole import Dipole\n",
    "import numpy as np"
   ]
  },
  {
   "cell_type": "code",
   "execution_count": 2,
   "metadata": {},
   "outputs": [],
   "source": [
    "n_dipoles = 6\n",
    "perim = 1e3  # 1km\n",
    "l_dipole = perim / n_dipoles\n",
    "angle_dipole = 2 * np.pi / n_dipoles\n",
    "rho_dipole = l_dipole / angle_dipole"
   ]
  },
  {
   "cell_type": "code",
   "execution_count": 3,
   "metadata": {},
   "outputs": [
    {
     "name": "stdout",
     "output_type": "stream",
     "text": [
      "159.15494309189535\n",
      "1.0471975511965976\n",
      "166.66666666666666\n"
     ]
    }
   ],
   "source": [
    "print(rho_dipole)\n",
    "print(angle_dipole)\n",
    "print(l_dipole)"
   ]
  },
  {
   "cell_type": "code",
   "execution_count": 4,
   "metadata": {},
   "outputs": [
    {
     "data": {
      "text/plain": [
       "Dipole(rho=159.15494309189535, theta=1.0471975511965976, name='dipole_0')"
      ]
     },
     "execution_count": 4,
     "metadata": {},
     "output_type": "execute_result"
    }
   ],
   "source": [
    "dip = Dipole(rho_dipole, angle_dipole)\n",
    "dip"
   ]
  },
  {
   "cell_type": "code",
   "execution_count": 5,
   "metadata": {},
   "outputs": [
    {
     "data": {
      "text/plain": [
       "TransferMatrix([[ 5.00000000e-01,  1.37832224e+02],\n",
       "                [-5.44139809e-03,  5.00000000e-01]])"
      ]
     },
     "execution_count": 5,
     "metadata": {},
     "output_type": "execute_result"
    }
   ],
   "source": [
    "dip.m_h"
   ]
  },
  {
   "cell_type": "code",
   "execution_count": 6,
   "metadata": {},
   "outputs": [
    {
     "data": {
      "text/plain": [
       "TwissTransferMatrix([[ 2.50000000e-01, -1.37832224e+02,  1.89977219e+04],\n",
       "                     [ 2.72069905e-03, -5.00000000e-01, -6.89161119e+01],\n",
       "                     [ 2.96088132e-05,  5.44139809e-03,  2.50000000e-01]])"
      ]
     },
     "execution_count": 6,
     "metadata": {},
     "output_type": "execute_result"
    }
   ],
   "source": [
    "dip.m_h.twiss"
   ]
  },
  {
   "cell_type": "code",
   "execution_count": 7,
   "metadata": {},
   "outputs": [
    {
     "data": {
      "text/plain": [
       "(<Figure size 432x288 with 2 Axes>,\n",
       " array([<AxesSubplot:ylabel='x (m)'>,\n",
       "        <AxesSubplot:xlabel='s (m)', ylabel=\"x'\">], dtype=object))"
      ]
     },
     "execution_count": 7,
     "metadata": {},
     "output_type": "execute_result"
    },
    {
     "data": {
      "image/png": "[encoded data removed]",
      "text/plain": [
       "<Figure size 432x288 with 2 Axes>"
      ]
     },
     "metadata": {
      "needs_background": "light"
     },
     "output_type": "display_data"
    }
   ],
   "source": [
    "dip.plot(u_init=[1, 0], plane='h')"
   ]
  },
  {
   "cell_type": "code",
   "execution_count": 8,
   "metadata": {},
   "outputs": [],
   "source": [
    "from accelerator import Lattice\n",
    "from accelerator.elements import Drift\n",
    "import matplotlib.pyplot as plt"
   ]
  },
  {
   "cell_type": "code",
   "execution_count": 9,
   "metadata": {},
   "outputs": [],
   "source": [
    "lat = Lattice([dip, Drift(1000)])"
   ]
  },
  {
   "cell_type": "code",
   "execution_count": 10,
   "metadata": {},
   "outputs": [
    {
     "data": {
      "text/plain": [
       "[Dipole(rho=159.15494309189535, theta=1.0471975511965976, name='dipole_0'),\n",
       " Drift(l=1000, name='drift_0')]"
      ]
     },
     "execution_count": 10,
     "metadata": {},
     "output_type": "execute_result"
    }
   ],
   "source": [
    "lat"
   ]
  },
  {
   "cell_type": "code",
   "execution_count": 11,
   "metadata": {},
   "outputs": [
    {
     "data": {
      "text/plain": [
       "(<Figure size 432x288 with 1 Axes>,\n",
       " <AxesSubplot:xlabel='x [m]', ylabel='z [m]'>)"
      ]
     },
     "execution_count": 11,
     "metadata": {},
     "output_type": "execute_result"
    },
    {
     "data": {
      "image/png": "[encoded data removed]",
      "text/plain": [
       "<Figure size 432x288 with 1 Axes>"
      ]
     },
     "metadata": {
      "needs_background": "light"
     },
     "output_type": "display_data"
    }
   ],
   "source": [
    "lat.plot.top_down(n_s_per_element=10)"
   ]
  },
  {
   "cell_type": "code",
   "execution_count": 12,
   "metadata": {},
   "outputs": [
    {
     "data": {
      "text/plain": [
       "[Dipole(rho=159.15494309189535, theta=0.10471975511965977, name='dipole_0_slice_0'),\n",
       " Dipole(rho=159.15494309189535, theta=0.10471975511965977, name='dipole_0_slice_1'),\n",
       " Dipole(rho=159.15494309189535, theta=0.10471975511965977, name='dipole_0_slice_2'),\n",
       " Dipole(rho=159.15494309189535, theta=0.10471975511965977, name='dipole_0_slice_3'),\n",
       " Dipole(rho=159.15494309189535, theta=0.10471975511965977, name='dipole_0_slice_4'),\n",
       " Dipole(rho=159.15494309189535, theta=0.10471975511965977, name='dipole_0_slice_5'),\n",
       " Dipole(rho=159.15494309189535, theta=0.10471975511965977, name='dipole_0_slice_6'),\n",
       " Dipole(rho=159.15494309189535, theta=0.10471975511965977, name='dipole_0_slice_7'),\n",
       " Dipole(rho=159.15494309189535, theta=0.10471975511965977, name='dipole_0_slice_8'),\n",
       " Dipole(rho=159.15494309189535, theta=0.10471975511965977, name='dipole_0_slice_9')]"
      ]
     },
     "execution_count": 12,
     "metadata": {},
     "output_type": "execute_result"
    }
   ],
   "source": [
    "dip.slice(10)"
   ]
  }
 ],
 "metadata": {
  "kernelspec": {
   "display_name": "Python 3",
   "language": "python",
   "name": "python3"
  },
  "language_info": {
   "codemirror_mode": {
    "name": "ipython",
    "version": 3
   },
   "file_extension": ".py",
   "mimetype": "text/x-python",
   "name": "python",
   "nbconvert_exporter": "python",
   "pygments_lexer": "ipython3",
   "version": "3.8.5"
  }
 },
 "nbformat": 4,
 "nbformat_minor": 4
}
