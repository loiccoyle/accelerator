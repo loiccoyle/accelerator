{
 "cells": [
  {
   "cell_type": "code",
   "execution_count": 1,
   "metadata": {},
   "outputs": [],
   "source": [
    "from accelerator import *\n",
    "import numpy as np\n",
    "import matplotlib.pyplot as plt"
   ]
  },
  {
   "cell_type": "code",
   "execution_count": 2,
   "metadata": {},
   "outputs": [],
   "source": [
    "def test_tune_turn_convergence(lattice):\n",
    "    scan_turns = [64, 128, 256, 512, 1024, 2048, 5012, 10024]  # np.linspace(100, 5000, 20, dtype=int)\n",
    "    tunes = []\n",
    "    for n_turns in scan_turns:\n",
    "        tunes.append(FODO_thin.tune(n_turns=n_turns))\n",
    "    plt.plot(scan_turns, tunes)\n",
    "    plt.xlabel('number of turns')\n",
    "    plt.ylabel('tune')"
   ]
  },
  {
   "cell_type": "markdown",
   "metadata": {},
   "source": [
    "# Thin lattice"
   ]
  },
  {
   "cell_type": "code",
   "execution_count": 3,
   "metadata": {},
   "outputs": [
    {
     "data": {
      "text/plain": [
       "(<Figure size 432x288 with 1 Axes>, <AxesSubplot:xlabel='s [m]'>)"
      ]
     },
     "execution_count": 3,
     "metadata": {},
     "output_type": "execute_result"
    },
    {
     "data": {
      "image/png": "[encoded data removed]",
      "text/plain": [
       "<Figure size 432x288 with 1 Axes>"
      ]
     },
     "metadata": {
      "needs_background": "light"
     },
     "output_type": "display_data"
    }
   ],
   "source": [
    "f = 8\n",
    "l_drift = 1.1\n",
    "\n",
    "quad_F = QuadrupoleThin(f*2)\n",
    "quad_D = QuadrupoleThin(-f)\n",
    "drift = Drift(l_drift)\n",
    "\n",
    "FODO_thin = Lattice([quad_F, drift, quad_D, drift, quad_F])\n",
    "lattice_thin = FODO_thin*100\n",
    "FODO_thin.plot()"
   ]
  },
  {
   "cell_type": "code",
   "execution_count": 4,
   "metadata": {
    "scrolled": false
   },
   "outputs": [
    {
     "name": "stdout",
     "output_type": "stream",
     "text": [
      "(0.9782363755364666, 0.020860156021239862, 0.027795558859837286)\n",
      "(0.9781011742646414, 0.02188657189775351, 0.02194029640882864)\n",
      "(0.021908474311847212, 0.9780990796616079, 0.022254857537091423)\n",
      "(0.021901268121348894, 0.9780989304616353, 0.021906100395857966)\n",
      "(0.9780989196893305, 0.021900923657632253, 0.021942383192117724)\n",
      "(0.9780989193846413, 0.02190107536574314, 0.021901988084347897)\n",
      "(0.02190108053632395, 0.9780989193609514, 0.021901078870671848)\n",
      "(0.02190108082435578, 0.9780989193596785, 0.021902181724738762)\n"
     ]
    },
    {
     "data": {
      "image/png": "[encoded data removed]",
      "text/plain": [
       "<Figure size 432x288 with 1 Axes>"
      ]
     },
     "metadata": {
      "needs_background": "light"
     },
     "output_type": "display_data"
    }
   ],
   "source": [
    "test_tune_turn_convergence(lattice_thin)"
   ]
  },
  {
   "cell_type": "code",
   "execution_count": 5,
   "metadata": {},
   "outputs": [
    {
     "name": "stdout",
     "output_type": "stream",
     "text": [
      "(0.9780989196893305, 0.021900923657632253, 0.021942383192117724)\n"
     ]
    },
    {
     "data": {
      "text/plain": [
       "0.9780989196893305"
      ]
     },
     "execution_count": 5,
     "metadata": {},
     "output_type": "execute_result"
    }
   ],
   "source": [
    "FODO_thin.tune()"
   ]
  },
  {
   "cell_type": "code",
   "execution_count": 6,
   "metadata": {},
   "outputs": [
    {
     "name": "stdout",
     "output_type": "stream",
     "text": [
      "(0.9780989196893305, 0.021900923657632253, 0.021942383192117724)\n",
      "(0.02168392856060449, 0.9783161001348268, 0.021685595315658814)\n",
      "0.9780989196893305\n",
      "0.02168392856060449\n"
     ]
    },
    {
     "data": {
      "text/plain": [
       "-95.6414991128726"
      ]
     },
     "execution_count": 6,
     "metadata": {},
     "output_type": "execute_result"
    }
   ],
   "source": [
    "FODO_thin.chromaticity()"
   ]
  },
  {
   "cell_type": "code",
   "execution_count": 7,
   "metadata": {},
   "outputs": [
    {
     "name": "stdout",
     "output_type": "stream",
     "text": [
      "(0.19010806544843104, 0.8098919360427504, 0.19010955030463209)\n"
     ]
    },
    {
     "data": {
      "text/plain": [
       "0.19010806544843104"
      ]
     },
     "execution_count": 7,
     "metadata": {},
     "output_type": "execute_result"
    }
   ],
   "source": [
    "lattice_thin.tune()"
   ]
  },
  {
   "cell_type": "code",
   "execution_count": 8,
   "metadata": {},
   "outputs": [
    {
     "name": "stdout",
     "output_type": "stream",
     "text": [
      "(0.19010806544843104, 0.8098919360427504, 0.19010955030463209)\n",
      "(0.8316099479041846, 0.16839004822630266, 0.168390646665736)\n",
      "0.19010806544843104\n",
      "0.8316099479041846\n"
     ]
    },
    {
     "data": {
      "text/plain": [
       "-64.15018824557535"
      ]
     },
     "execution_count": 8,
     "metadata": {},
     "output_type": "execute_result"
    }
   ],
   "source": [
    "lattice_thin.chromaticity()"
   ]
  },
  {
   "cell_type": "code",
   "execution_count": 9,
   "metadata": {},
   "outputs": [],
   "source": [
    "def thin_lattice_factory(strength):\n",
    "    f = 1/strength\n",
    "    l_drift = 1.1\n",
    "\n",
    "    quad_F = QuadrupoleThin(f*2)\n",
    "    quad_D = QuadrupoleThin(-f)\n",
    "    drift = Drift(l_drift)\n",
    "\n",
    "    return Lattice([quad_F, drift, quad_D, drift, quad_F])"
   ]
  },
  {
   "cell_type": "code",
   "execution_count": 10,
   "metadata": {
    "scrolled": true
   },
   "outputs": [
    {
     "name": "stdout",
     "output_type": "stream",
     "text": [
      "(0.18537229344092593, 0.814627705744705, 0.18537172241761532)\n",
      "(0.2028075466821359, 0.797192454645061, 0.202808867806023)\n",
      "(0.22098112914150472, 0.7790188703212131, 0.220980685634644)\n",
      "(0.24006409431392575, 0.7599359049724337, 0.2400633735963709)\n",
      "(0.2602899318296506, 0.7397100714393212, 0.2602922280367141)\n",
      "(0.28199332529467985, 0.7180066745536924, 0.2819931328302613)\n",
      "(0.6943135968197202, 0.3056864034159516, 0.3056860793338818)\n",
      "(0.3322291283676132, 0.66777087232329, 0.3322295871086496)\n",
      "(0.6367067561152321, 0.36329324408104385, 0.36329207358171584)\n",
      "(0.40316455209456464, 0.5968354455402416, 0.4031630298442071)\n",
      "(0.48561896053980075, 0.5143809949123374, 0.4856180351520433)\n",
      "(0.5, 0.500000784558782, 0.4999991416626394)\n"
     ]
    },
    {
     "name": "stderr",
     "output_type": "stream",
     "text": [
      "/home/lcoyle/.cache/pypoetry/virtualenvs/accelerator-7M8YfYAd-py3.8/lib/python3.8/site-packages/numpy/core/_methods.py:205: RuntimeWarning: overflow encountered in multiply\n",
      "  x = um.multiply(x, x, out=x)\n",
      "/home/lcoyle/projects/accelerator/accelerator/elements/base.py:52: RuntimeWarning: overflow encountered in matmul\n",
      "  return (self._get_transfer_matrix() @ phase_coords) + self._non_linear_term(\n",
      "/home/lcoyle/projects/accelerator/accelerator/elements/base.py:52: RuntimeWarning: invalid value encountered in matmul\n",
      "  return (self._get_transfer_matrix() @ phase_coords) + self._non_linear_term(\n",
      "/home/lcoyle/projects/accelerator/accelerator/harmonic_analysis.py:66: RuntimeWarning: invalid value encountered in cdouble_scalars\n",
      "  delta = delta * np.real((r[km] - r[kp]) / (2 * r[k] - r[km] - r[kp]))\n"
     ]
    },
    {
     "name": "stdout",
     "output_type": "stream",
     "text": [
      "(nan, nan, nan)\n",
      "(nan, nan, nan)\n",
      "(nan, nan, nan)\n"
     ]
    },
    {
     "name": "stderr",
     "output_type": "stream",
     "text": [
      "/home/lcoyle/projects/accelerator/accelerator/elements/quadrupole.py:185: RuntimeWarning: overflow encountered in double_scalars\n",
      "  out[1] = -one_over_f * phase_coords[0] + phase_coords[1]\n"
     ]
    },
    {
     "name": "stdout",
     "output_type": "stream",
     "text": [
      "(nan, nan, nan)\n",
      "(nan, nan, nan)\n",
      "(nan, nan, nan)\n",
      "(nan, nan, nan)\n",
      "(nan, nan, nan)\n",
      "(nan, nan, nan)\n",
      "(nan, nan, nan)\n",
      "(nan, nan, nan)\n",
      "(nan, nan, nan)\n",
      "(nan, nan, nan)\n",
      "(nan, nan, nan)\n",
      "(nan, nan, nan)\n",
      "(nan, nan, nan)\n",
      "(nan, nan, nan)\n",
      "(nan, nan, nan)\n",
      "(nan, nan, nan)\n",
      "(nan, nan, nan)\n",
      "(nan, nan, nan)\n",
      "(nan, nan, nan)\n",
      "(nan, nan, nan)\n",
      "(nan, nan, nan)\n",
      "(nan, nan, nan)\n",
      "(nan, nan, nan)\n",
      "(nan, nan, nan)\n",
      "(nan, nan, nan)\n",
      "(nan, nan, nan)\n",
      "(nan, nan, nan)\n",
      "(nan, nan, nan)\n",
      "(nan, nan, nan)\n",
      "(nan, nan, nan)\n",
      "(nan, nan, nan)\n",
      "(nan, nan, nan)\n",
      "(nan, nan, nan)\n",
      "(nan, nan, nan)\n",
      "(nan, nan, nan)\n"
     ]
    },
    {
     "data": {
      "text/plain": [
       "[<matplotlib.lines.Line2D at 0x7f467eb96700>]"
      ]
     },
     "execution_count": 10,
     "metadata": {},
     "output_type": "execute_result"
    },
    {
     "data": {
      "image/png": "[encoded data removed]",
      "text/plain": [
       "<Figure size 432x288 with 1 Axes>"
      ]
     },
     "metadata": {
      "needs_background": "light"
     },
     "output_type": "display_data"
    }
   ],
   "source": [
    "scan_strengths = np.linspace(1, 5, 50)\n",
    "tunes = []\n",
    "for strength in scan_strengths:\n",
    "    tunes.append(thin_lattice_factory(strength).tune())\n",
    "plt.plot(scan_strengths, tunes)"
   ]
  },
  {
   "cell_type": "markdown",
   "metadata": {},
   "source": [
    "# Thick elements"
   ]
  },
  {
   "cell_type": "code",
   "execution_count": 11,
   "metadata": {},
   "outputs": [
    {
     "data": {
      "text/plain": [
       "(<Figure size 432x288 with 1 Axes>, <AxesSubplot:xlabel='s [m]'>)"
      ]
     },
     "execution_count": 11,
     "metadata": {},
     "output_type": "execute_result"
    },
    {
     "data": {
      "image/png": "[encoded data removed]",
      "text/plain": [
       "<Figure size 432x288 with 1 Axes>"
      ]
     },
     "metadata": {
      "needs_background": "light"
     },
     "output_type": "display_data"
    }
   ],
   "source": [
    "k = 1/0.8\n",
    "l_quad = 0.1\n",
    "l_drift = 1\n",
    "\n",
    "quad_F = Quadrupole(k, l_quad/2)\n",
    "quad_D = Quadrupole(-k, l_quad)\n",
    "sext_f = Sextupole(1e-3, 0.1)\n",
    "sext_d = Sextupole(1e-3, 0.1)\n",
    "drift = Drift(l_drift)\n",
    "\n",
    "FODO_thick = Lattice([quad_F,\n",
    "                      sext_f,\n",
    "                      drift,\n",
    "                      quad_D,\n",
    "                      sext_d,\n",
    "                      drift,\n",
    "                      quad_F])\n",
    "lattice_thick = FODO_thick*100\n",
    "FODO_thick.plot()"
   ]
  },
  {
   "cell_type": "code",
   "execution_count": 12,
   "metadata": {},
   "outputs": [
    {
     "name": "stdout",
     "output_type": "stream",
     "text": [
      "(0.9782363755364666, 0.020860156021239862, 0.027795558859837286)\n",
      "(0.9781011742646414, 0.02188657189775351, 0.02194029640882864)\n",
      "(0.021908474311847212, 0.9780990796616079, 0.022254857537091423)\n",
      "(0.021901268121348894, 0.9780989304616353, 0.021906100395857966)\n",
      "(0.9780989196893305, 0.021900923657632253, 0.021942383192117724)\n",
      "(0.9780989193846413, 0.02190107536574314, 0.021901988084347897)\n",
      "(0.02190108053632395, 0.9780989193609514, 0.021901078870671848)\n",
      "(0.02190108082435578, 0.9780989193596785, 0.021902181724738762)\n"
     ]
    },
    {
     "data": {
      "image/png": "[encoded data removed]",
      "text/plain": [
       "<Figure size 432x288 with 1 Axes>"
      ]
     },
     "metadata": {
      "needs_background": "light"
     },
     "output_type": "display_data"
    }
   ],
   "source": [
    "test_tune_turn_convergence(lattice_thick)"
   ]
  },
  {
   "cell_type": "code",
   "execution_count": 13,
   "metadata": {},
   "outputs": [
    {
     "data": {
      "text/plain": [
       "TransferMatrix([[ 0.99843791,  0.04997396,  0.        ,  0.        ,\n",
       "                  0.        ],\n",
       "                [-0.06246745,  0.99843791,  0.        ,  0.        ,\n",
       "                  0.        ],\n",
       "                [ 0.        ,  0.        ,  1.00156291,  0.05002605,\n",
       "                  0.        ],\n",
       "                [ 0.        ,  0.        ,  0.06253256,  1.00156291,\n",
       "                  0.        ],\n",
       "                [ 0.        ,  0.        ,  0.        ,  0.        ,\n",
       "                  1.        ]])"
      ]
     },
     "execution_count": 13,
     "metadata": {},
     "output_type": "execute_result"
    }
   ],
   "source": [
    "quad_F.m"
   ]
  },
  {
   "cell_type": "code",
   "execution_count": 14,
   "metadata": {},
   "outputs": [
    {
     "data": {
      "text/plain": [
       "TransferMatrix([[ 1.00625651,  0.10020846,  0.        ,  0.        ,\n",
       "                  0.        ],\n",
       "                [ 0.12526058,  1.00625651,  0.        ,  0.        ,\n",
       "                  0.        ],\n",
       "                [ 0.        ,  0.        ,  0.99375651,  0.0997918 ,\n",
       "                  0.        ],\n",
       "                [ 0.        ,  0.        , -0.12473975,  0.99375651,\n",
       "                  0.        ],\n",
       "                [ 0.        ,  0.        ,  0.        ,  0.        ,\n",
       "                  1.        ]])"
      ]
     },
     "execution_count": 14,
     "metadata": {},
     "output_type": "execute_result"
    }
   ],
   "source": [
    "quad_D.m"
   ]
  },
  {
   "cell_type": "code",
   "execution_count": 15,
   "metadata": {},
   "outputs": [
    {
     "name": "stdout",
     "output_type": "stream",
     "text": [
      "(0.9767788076277176, 0.023221176863748107, 0.02322125898212109)\n"
     ]
    },
    {
     "data": {
      "text/plain": [
       "0.9767788076277176"
      ]
     },
     "execution_count": 15,
     "metadata": {},
     "output_type": "execute_result"
    }
   ],
   "source": [
    "FODO_thick.tune()"
   ]
  },
  {
   "cell_type": "code",
   "execution_count": 16,
   "metadata": {},
   "outputs": [
    {
     "name": "stdout",
     "output_type": "stream",
     "text": [
      "(0.9767788308902174, 0.023221153613075054, 0.023221235303301353)\n"
     ]
    },
    {
     "data": {
      "text/plain": [
       "0.9767788308902174"
      ]
     },
     "execution_count": 16,
     "metadata": {},
     "output_type": "execute_result"
    }
   ],
   "source": [
    "FODO_thick.tune(dp=1e-6)"
   ]
  },
  {
   "cell_type": "code",
   "execution_count": 17,
   "metadata": {},
   "outputs": [
    {
     "name": "stdout",
     "output_type": "stream",
     "text": [
      "(0.9767788076277176, 0.023221176863748107, 0.02322125898212109)\n",
      "(0.022991027984900995, 0.9770091226578957, 0.023069793333748638)\n",
      "0.9767788076277176\n",
      "0.022991027984900995\n"
     ]
    },
    {
     "data": {
      "text/plain": [
       "-95.37877796428165"
      ]
     },
     "execution_count": 17,
     "metadata": {},
     "output_type": "execute_result"
    }
   ],
   "source": [
    "FODO_thick.chromaticity()"
   ]
  },
  {
   "cell_type": "code",
   "execution_count": 18,
   "metadata": {},
   "outputs": [
    {
     "data": {
      "text/plain": [
       "0.023338091071447797"
      ]
     },
     "execution_count": 18,
     "metadata": {},
     "output_type": "execute_result"
    }
   ],
   "source": [
    "1 - 0.9766619089285522"
   ]
  },
  {
   "cell_type": "code",
   "execution_count": 19,
   "metadata": {},
   "outputs": [
    {
     "name": "stdout",
     "output_type": "stream",
     "text": [
      "(0.32211929857104243, 0.6778807004472659, 0.3221181868174303)\n"
     ]
    },
    {
     "data": {
      "text/plain": [
       "0.32211929857104243"
      ]
     },
     "execution_count": 19,
     "metadata": {},
     "output_type": "execute_result"
    }
   ],
   "source": [
    "lattice_thick.tune()"
   ]
  },
  {
   "cell_type": "code",
   "execution_count": 20,
   "metadata": {},
   "outputs": [
    {
     "name": "stdout",
     "output_type": "stream",
     "text": [
      "(0.32211929857104243, 0.6778807004472659, 0.3221181868174303)\n",
      "(0.29908779002020963, 0.700912209729731, 0.2990876062013568)\n",
      "0.32211929857104243\n",
      "0.29908779002020963\n"
     ]
    },
    {
     "data": {
      "text/plain": [
       "-2.30315085508328"
      ]
     },
     "execution_count": 20,
     "metadata": {},
     "output_type": "execute_result"
    }
   ],
   "source": [
    "lattice_thick.chromaticity()"
   ]
  },
  {
   "cell_type": "code",
   "execution_count": 21,
   "metadata": {},
   "outputs": [
    {
     "name": "stdout",
     "output_type": "stream",
     "text": [
      "(0.3221192985710408, 0.6778807004472674, 0.32211818681786847)\n",
      "(0.2990877900202084, 0.7009122097297323, 0.29908760620116187)\n",
      "0.3221192985710408\n",
      "0.2990877900202084\n"
     ]
    },
    {
     "data": {
      "text/plain": [
       "-2.303150855083241"
      ]
     },
     "execution_count": 21,
     "metadata": {},
     "output_type": "execute_result"
    }
   ],
   "source": [
    "lattice_thick.chromaticity(plane='v')"
   ]
  },
  {
   "cell_type": "code",
   "execution_count": 22,
   "metadata": {},
   "outputs": [
    {
     "name": "stdout",
     "output_type": "stream",
     "text": [
      "(0.9782363755364666, 0.020860156021239862, 0.027795558859837286)\n",
      "(0.9781011742646414, 0.02188657189775351, 0.02194029640882864)\n",
      "(0.021908474311847212, 0.9780990796616079, 0.022254857537091423)\n",
      "(0.021901268121348894, 0.9780989304616353, 0.021906100395857966)\n",
      "(0.9780989196893305, 0.021900923657632253, 0.021942383192117724)\n",
      "(0.9780989193846413, 0.02190107536574314, 0.021901988084347897)\n",
      "(0.02190108053632395, 0.9780989193609514, 0.021901078870671848)\n",
      "(0.02190108082435578, 0.9780989193596785, 0.021902181724738762)\n"
     ]
    },
    {
     "data": {
      "image/png": "[encoded data removed]",
      "text/plain": [
       "<Figure size 432x288 with 1 Axes>"
      ]
     },
     "metadata": {
      "needs_background": "light"
     },
     "output_type": "display_data"
    }
   ],
   "source": [
    "test_tune_turn_convergence(FODO_thick)"
   ]
  },
  {
   "cell_type": "markdown",
   "metadata": {},
   "source": [
    "# More complex"
   ]
  },
  {
   "cell_type": "code",
   "execution_count": 23,
   "metadata": {},
   "outputs": [],
   "source": [
    "circumference = 1000\n",
    "n_cells = 20\n",
    "cell_length = circumference / n_cells\n",
    "\n",
    "dipole_length = 5\n",
    "dipole_angle = 2 * np.pi / (n_cells * 4)\n",
    "dipole_bending_radius = dipole_length / dipole_angle\n",
    "\n",
    "quadrupole_length = 3\n",
    "quadrupole_strength = 1e-2\n",
    "\n",
    "drift_length = (circumference / n_cells - (2 * quadrupole_length) - (4 * dipole_length)) / 6"
   ]
  },
  {
   "cell_type": "code",
   "execution_count": 24,
   "metadata": {},
   "outputs": [],
   "source": [
    "dipole = Dipole(dipole_bending_radius, dipole_angle)\n",
    "quad_f = Quadrupole(quadrupole_strength, quadrupole_length, name='quad_f')\n",
    "quad_d = Quadrupole(-quadrupole_strength, quadrupole_length, name='quad_d')\n",
    "drift = Drift(drift_length)\n",
    "drift_half = Drift(drift_length / 2)"
   ]
  },
  {
   "cell_type": "code",
   "execution_count": 25,
   "metadata": {},
   "outputs": [
    {
     "data": {
      "image/png": "[encoded data removed]",
      "text/plain": [
       "<Figure size 432x288 with 1 Axes>"
      ]
     },
     "metadata": {
      "needs_background": "light"
     },
     "output_type": "display_data"
    },
    {
     "data": {
      "image/png": "[encoded data removed]",
      "text/plain": [
       "<Figure size 432x288 with 1 Axes>"
      ]
     },
     "metadata": {
      "needs_background": "light"
     },
     "output_type": "display_data"
    }
   ],
   "source": [
    "l_sext = 0.5\n",
    "k_sext_f = 1e-3\n",
    "k_sext_d = -1e-3\n",
    "sext_f = Sextupole(k_sext_f, l_sext, name=\"sextupole_f\")\n",
    "sext_d = Sextupole(k_sext_d, l_sext, name=\"sextupole_d\")\n",
    "FODO_sext = Lattice([quad_f,\n",
    "                     sext_f,\n",
    "                     Drift(drift_length - l_sext),\n",
    "                     dipole,\n",
    "                     drift,\n",
    "                     dipole,\n",
    "                     drift,\n",
    "                     quad_d,\n",
    "                     sext_d,\n",
    "                     Drift(drift_length - l_sext),\n",
    "                     dipole,\n",
    "                     drift,\n",
    "                     dipole,\n",
    "                     drift,\n",
    "                     ])\n",
    "FODO_sext.plot()\n",
    "FODO_sext.plot.top_down()\n",
    "lattice_sext = FODO_sext * n_cells"
   ]
  },
  {
   "cell_type": "code",
   "execution_count": 26,
   "metadata": {},
   "outputs": [
    {
     "name": "stdout",
     "output_type": "stream",
     "text": [
      "(0.9782363755364666, 0.020860156021239862, 0.027795558859837286)\n",
      "(0.9781011742646414, 0.02188657189775351, 0.02194029640882864)\n",
      "(0.021908474311847212, 0.9780990796616079, 0.022254857537091423)\n",
      "(0.021901268121348894, 0.9780989304616353, 0.021906100395857966)\n",
      "(0.9780989196893305, 0.021900923657632253, 0.021942383192117724)\n",
      "(0.9780989193846413, 0.02190107536574314, 0.021901988084347897)\n",
      "(0.02190108053632395, 0.9780989193609514, 0.021901078870671848)\n",
      "(0.02190108082435578, 0.9780989193596785, 0.021902181724738762)\n"
     ]
    },
    {
     "data": {
      "image/png": "[encoded data removed]",
      "text/plain": [
       "<Figure size 432x288 with 1 Axes>"
      ]
     },
     "metadata": {
      "needs_background": "light"
     },
     "output_type": "display_data"
    }
   ],
   "source": [
    "test_tune_turn_convergence(lattice_sext)"
   ]
  },
  {
   "cell_type": "code",
   "execution_count": 27,
   "metadata": {},
   "outputs": [
    {
     "data": {
      "text/plain": [
       "(<Figure size 432x288 with 1 Axes>, <AxesSubplot:xlabel='s [m]'>)"
      ]
     },
     "execution_count": 27,
     "metadata": {},
     "output_type": "execute_result"
    },
    {
     "data": {
      "image/png": "[encoded data removed]",
      "text/plain": [
       "<Figure size 432x288 with 1 Axes>"
      ]
     },
     "metadata": {
      "needs_background": "light"
     },
     "output_type": "display_data"
    }
   ],
   "source": [
    "FODO_sext.twiss('h').plot()"
   ]
  },
  {
   "cell_type": "code",
   "execution_count": 28,
   "metadata": {},
   "outputs": [
    {
     "data": {
      "text/plain": [
       "(<Figure size 432x288 with 1 Axes>,\n",
       " <AxesSubplot:xlabel='s [m]', ylabel='x [m]'>)"
      ]
     },
     "execution_count": 28,
     "metadata": {},
     "output_type": "execute_result"
    },
    {
     "data": {
      "image/png": "[encoded data removed]",
      "text/plain": [
       "<Figure size 432x288 with 1 Axes>"
      ]
     },
     "metadata": {
      "needs_background": "light"
     },
     "output_type": "display_data"
    }
   ],
   "source": [
    "FODO_sext.dispersion().plot('h')"
   ]
  },
  {
   "cell_type": "code",
   "execution_count": 29,
   "metadata": {},
   "outputs": [
    {
     "name": "stdout",
     "output_type": "stream",
     "text": [
      "(0.14219268309131744, 0.8578073131219193, 0.14219248933714201)\n"
     ]
    },
    {
     "data": {
      "text/plain": [
       "0.14219268309131744"
      ]
     },
     "execution_count": 29,
     "metadata": {},
     "output_type": "execute_result"
    }
   ],
   "source": [
    "FODO_sext.tune(dp=0)"
   ]
  },
  {
   "cell_type": "code",
   "execution_count": 30,
   "metadata": {},
   "outputs": [
    {
     "name": "stdout",
     "output_type": "stream",
     "text": [
      "(0.0, 0.14213935606853564, 0.8578606491322996)\n"
     ]
    },
    {
     "data": {
      "text/plain": [
       "0.14213935606853564"
      ]
     },
     "execution_count": 30,
     "metadata": {},
     "output_type": "execute_result"
    }
   ],
   "source": [
    "FODO_sext.tune(dp=1e-3)"
   ]
  },
  {
   "cell_type": "code",
   "execution_count": 31,
   "metadata": {},
   "outputs": [
    {
     "name": "stdout",
     "output_type": "stream",
     "text": [
      "(0.15614625967644247, 0.84385374138172, 0.1561476562408833)\n"
     ]
    },
    {
     "data": {
      "text/plain": [
       "0.15614625967644247"
      ]
     },
     "execution_count": 31,
     "metadata": {},
     "output_type": "execute_result"
    }
   ],
   "source": [
    "lattice_sext.tune()"
   ]
  },
  {
   "cell_type": "code",
   "execution_count": 32,
   "metadata": {},
   "outputs": [
    {
     "name": "stdout",
     "output_type": "stream",
     "text": [
      "(0.0, 0.8427870215660158, 0.15721297825081992)\n"
     ]
    },
    {
     "data": {
      "text/plain": [
       "0.8427870215660158"
      ]
     },
     "execution_count": 32,
     "metadata": {},
     "output_type": "execute_result"
    }
   ],
   "source": [
    "lattice_sext.tune(dp=1e-3)"
   ]
  },
  {
   "cell_type": "code",
   "execution_count": 33,
   "metadata": {},
   "outputs": [
    {
     "name": "stdout",
     "output_type": "stream",
     "text": [
      "(0.14219268309131744, 0.8578073131219193, 0.14219248933714201)\n",
      "(0.0, 0.14167299580300563, 0.8583270052073271)\n",
      "0.14219268309131744\n",
      "0.14167299580300563\n"
     ]
    },
    {
     "data": {
      "text/plain": [
       "-0.05196872883118098"
      ]
     },
     "execution_count": 33,
     "metadata": {},
     "output_type": "execute_result"
    }
   ],
   "source": [
    "FODO_sext.chromaticity()"
   ]
  },
  {
   "cell_type": "code",
   "execution_count": 34,
   "metadata": {},
   "outputs": [
    {
     "name": "stdout",
     "output_type": "stream",
     "text": [
      "(0.11711163544495258, 0.8828883649009991, 0.1171120472110265)\n",
      "(0.11609336126911259, 0.883906639893479, 0.9744204899893162)\n",
      "0.11711163544495258\n",
      "0.11609336126911259\n"
     ]
    },
    {
     "data": {
      "text/plain": [
       "-0.10182741758399949"
      ]
     },
     "execution_count": 34,
     "metadata": {},
     "output_type": "execute_result"
    }
   ],
   "source": [
    "FODO_sext.chromaticity('v')"
   ]
  },
  {
   "cell_type": "code",
   "execution_count": 35,
   "metadata": {},
   "outputs": [
    {
     "name": "stdout",
     "output_type": "stream",
     "text": [
      "(0.15614625967644247, 0.84385374138172, 0.1561476562408833)\n",
      "(0.0, 0.16654166183767585, 0.8334583424623557)\n",
      "0.15614625967644247\n",
      "0.16654166183767585\n"
     ]
    },
    {
     "data": {
      "text/plain": [
       "-1.0395402161233358"
      ]
     },
     "execution_count": 35,
     "metadata": {},
     "output_type": "execute_result"
    }
   ],
   "source": [
    "lattice_sext.chromaticity()"
   ]
  },
  {
   "cell_type": "code",
   "execution_count": 36,
   "metadata": {},
   "outputs": [
    {
     "name": "stdout",
     "output_type": "stream",
     "text": [
      "(0.34223270262629996, 0.6577672977020232, 0.34223394274070035)\n",
      "(0.6781336641656177, 0.3218663387540368, 0.3206508320449255)\n",
      "0.34223270262629996\n",
      "0.6781336641656177\n"
     ]
    },
    {
     "data": {
      "text/plain": [
       "-33.59009615393178"
      ]
     },
     "execution_count": 36,
     "metadata": {},
     "output_type": "execute_result"
    }
   ],
   "source": [
    "lattice_sext.chromaticity('v')"
   ]
  },
  {
   "cell_type": "code",
   "execution_count": 37,
   "metadata": {},
   "outputs": [
    {
     "ename": "TypeError",
     "evalue": "transport() missing 1 required positional argument: 'initial'",
     "output_type": "error",
     "traceback": [
      "\u001b[0;31m---------------------------------------------------------------------------\u001b[0m",
      "\u001b[0;31mTypeError\u001b[0m                                 Traceback (most recent call last)",
      "\u001b[0;32m<ipython-input-37-8ba87e165467>\u001b[0m in \u001b[0;36m<module>\u001b[0;34m\u001b[0m\n\u001b[0;32m----> 1\u001b[0;31m \u001b[0mlattice_sext\u001b[0m\u001b[0;34m.\u001b[0m\u001b[0mtransport\u001b[0m\u001b[0;34m(\u001b[0m\u001b[0;34m)\u001b[0m\u001b[0;34m\u001b[0m\u001b[0;34m\u001b[0m\u001b[0m\n\u001b[0m",
      "\u001b[0;31mTypeError\u001b[0m: transport() missing 1 required positional argument: 'initial'"
     ]
    }
   ],
   "source": [
    "lattice_sext.transport()"
   ]
  }
 ],
 "metadata": {
  "kernelspec": {
   "display_name": "Python 3",
   "language": "python",
   "name": "python3"
  },
  "language_info": {
   "codemirror_mode": {
    "name": "ipython",
    "version": 3
   },
   "file_extension": ".py",
   "mimetype": "text/x-python",
   "name": "python",
   "nbconvert_exporter": "python",
   "pygments_lexer": "ipython3",
   "version": "3.8.6"
  }
 },
 "nbformat": 4,
 "nbformat_minor": 4
}
