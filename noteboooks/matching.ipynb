{
 "cells": [
  {
   "cell_type": "code",
   "execution_count": 1,
   "metadata": {},
   "outputs": [],
   "source": [
    "from accelerator import *\n",
    "\n",
    "import numpy as np\n",
    "import matplotlib.pyplot as plt"
   ]
  },
  {
   "cell_type": "markdown",
   "metadata": {},
   "source": [
    "# matching the lattice of the first tutorial to get a beta max of 300 meters"
   ]
  },
  {
   "cell_type": "code",
   "execution_count": 2,
   "metadata": {},
   "outputs": [],
   "source": [
    "cirumference = 1000  # meters\n",
    "proton_energy = 15  # GeV\n",
    "dipole_length = 5  # meters\n",
    "dipole_B_max = 2  # T"
   ]
  },
  {
   "cell_type": "code",
   "execution_count": 3,
   "metadata": {},
   "outputs": [],
   "source": [
    "n_cells = 8  # ??\n",
    "dipole_angle = np.pi / 16  # ??"
   ]
  },
  {
   "cell_type": "code",
   "execution_count": 4,
   "metadata": {},
   "outputs": [],
   "source": [
    "cell_length = cirumference / n_cells\n",
    "drift = Drift(cell_length / 6)\n",
    "dipole_thin = DipoleThin(dipole_angle)"
   ]
  },
  {
   "cell_type": "code",
   "execution_count": 5,
   "metadata": {},
   "outputs": [],
   "source": [
    "quad_focal_length = 2 / 8.89e-3"
   ]
  },
  {
   "cell_type": "code",
   "execution_count": 6,
   "metadata": {},
   "outputs": [],
   "source": [
    "quad_f_thin = QuadrupoleThin(quad_focal_length, name=\"quad_thin_f\")\n",
    "quad_d_thin = QuadrupoleThin(-quad_focal_length, name=\"quad_thin_d\")\n",
    "# We take the same FODO as exercise 1 and add some quadupoles\n",
    "FODO_thin = Lattice([quad_f_thin,\n",
    "                     drift,\n",
    "                     dipole_thin,\n",
    "                     drift,\n",
    "                     dipole_thin,\n",
    "                     drift,\n",
    "                     quad_d_thin,\n",
    "                     drift,\n",
    "                     dipole_thin,\n",
    "                     drift,\n",
    "                     dipole_thin,\n",
    "                     drift])"
   ]
  },
  {
   "cell_type": "code",
   "execution_count": 7,
   "metadata": {
    "scrolled": true
   },
   "outputs": [
    {
     "data": {
      "text/plain": [
       "(<Figure size 432x288 with 1 Axes>, <AxesSubplot:xlabel='s [m]'>)"
      ]
     },
     "execution_count": 7,
     "metadata": {},
     "output_type": "execute_result"
    },
    {
     "data": {
      "image/png": "[encoded data removed]",
      "text/plain": [
       "<Figure size 432x288 with 1 Axes>"
      ]
     },
     "metadata": {
      "needs_background": "light"
     },
     "output_type": "display_data"
    }
   ],
   "source": [
    "FODO_thin.plot()"
   ]
  },
  {
   "cell_type": "code",
   "execution_count": 8,
   "metadata": {},
   "outputs": [
    {
     "data": {
      "text/plain": [
       "array([[ 5.17460257e+02],\n",
       "       [-1.15005542e+00],\n",
       "       [ 4.48851374e-03]])"
      ]
     },
     "execution_count": 8,
     "metadata": {},
     "output_type": "execute_result"
    }
   ],
   "source": [
    "FODO_thin.m_h.twiss.invariant"
   ]
  },
  {
   "cell_type": "code",
   "execution_count": 9,
   "metadata": {},
   "outputs": [],
   "source": [
    "FODO_thin.constraints.add_target('quad_thin_f', [300, None, None], init='twiss_solution', plane='h')\n",
    "FODO_thin.constraints.add_free_parameter('quad_thin_f', \"f\")\n",
    "FODO_thin.constraints.add_free_parameter('quad_thin_d', \"f\")"
   ]
  },
  {
   "cell_type": "code",
   "execution_count": 10,
   "metadata": {},
   "outputs": [
    {
     "name": "stdout",
     "output_type": "stream",
     "text": [
      "CPU times: user 173 ms, sys: 130 µs, total: 173 ms\n",
      "Wall time: 172 ms\n"
     ]
    }
   ],
   "source": [
    "%time matched, opt_res = FODO_thin.constraints.match()"
   ]
  },
  {
   "cell_type": "code",
   "execution_count": 11,
   "metadata": {},
   "outputs": [
    {
     "data": {
      "text/plain": [
       " final_simplex: (array([[ 194.38222785, -255.31945265],\n",
       "       [ 194.38227556, -255.31954996],\n",
       "       [ 194.38225034, -255.31949852]]), array([1.88322247e-10, 2.68073563e-10, 4.21266577e-10]))\n",
       "           fun: 1.8832224668585695e-10\n",
       "       message: 'Optimization terminated successfully.'\n",
       "          nfev: 126\n",
       "           nit: 68\n",
       "        status: 0\n",
       "       success: True\n",
       "             x: array([ 194.38222785, -255.31945265])"
      ]
     },
     "execution_count": 11,
     "metadata": {},
     "output_type": "execute_result"
    }
   ],
   "source": [
    "opt_res"
   ]
  },
  {
   "cell_type": "code",
   "execution_count": 12,
   "metadata": {},
   "outputs": [
    {
     "data": {
      "text/plain": [
       "array([[ 3.00000000e+02],\n",
       "       [-7.71675485e-01],\n",
       "       [ 5.31827685e-03]])"
      ]
     },
     "execution_count": 12,
     "metadata": {},
     "output_type": "execute_result"
    }
   ],
   "source": [
    "matched.m_h.twiss.invariant"
   ]
  },
  {
   "cell_type": "code",
   "execution_count": 13,
   "metadata": {},
   "outputs": [],
   "source": [
    "beta, _, _, s = matched.transport(matched.m_h.twiss.invariant)"
   ]
  },
  {
   "cell_type": "code",
   "execution_count": 14,
   "metadata": {},
   "outputs": [
    {
     "data": {
      "text/plain": [
       "[<matplotlib.lines.Line2D at 0x7fdbb4551c50>]"
      ]
     },
     "execution_count": 14,
     "metadata": {},
     "output_type": "execute_result"
    },
    {
     "data": {
      "image/png": "[encoded data removed]",
      "text/plain": [
       "<Figure size 432x288 with 1 Axes>"
      ]
     },
     "metadata": {
      "needs_background": "light"
     },
     "output_type": "display_data"
    }
   ],
   "source": [
    "plt.plot(s, beta)"
   ]
  },
  {
   "cell_type": "markdown",
   "metadata": {},
   "source": [
    "# the matching example in the docstring matching the minimum beta"
   ]
  },
  {
   "cell_type": "code",
   "execution_count": 15,
   "metadata": {},
   "outputs": [
    {
     "name": "stdout",
     "output_type": "stream",
     "text": [
      "CPU times: user 75.2 ms, sys: 3.68 ms, total: 78.9 ms\n",
      "Wall time: 77.3 ms\n"
     ]
    }
   ],
   "source": [
    "lat = Lattice([QuadrupoleThin(1.6, name='quad_f'),\n",
    "               Drift(1),\n",
    "               QuadrupoleThin(-0.8, name='quad_d'),\n",
    "               Drift(1),\n",
    "               QuadrupoleThin(1.6, name='quad_f')])\n",
    "lat.constraints.add_free_parameter(\"quad_f\", \"f\")\n",
    "lat.constraints.add_free_parameter(\"quad_d\", \"f\")\n",
    "lat.constraints.add_target(\"quad_d\", [0.5, None, None], \"twiss_solution\", \"h\")\n",
    "%time matched, opt_res = lat.constraints.match()"
   ]
  },
  {
   "cell_type": "code",
   "execution_count": 16,
   "metadata": {},
   "outputs": [
    {
     "data": {
      "text/plain": [
       " final_simplex: (array([[ 1.31905279, -0.91813084],\n",
       "       [ 1.31905678, -0.91803312],\n",
       "       [ 1.31905318, -0.91812127]]), array([1.17692611e-09, 1.54066626e-09, 2.41138309e-09]))\n",
       "           fun: 1.1769261121230556e-09\n",
       "       message: 'Optimization terminated successfully.'\n",
       "          nfev: 84\n",
       "           nit: 46\n",
       "        status: 0\n",
       "       success: True\n",
       "             x: array([ 1.31905279, -0.91813084])"
      ]
     },
     "execution_count": 16,
     "metadata": {},
     "output_type": "execute_result"
    }
   ],
   "source": [
    "opt_res"
   ]
  },
  {
   "cell_type": "code",
   "execution_count": 17,
   "metadata": {},
   "outputs": [
    {
     "data": {
      "text/plain": [
       "Lattice([QuadrupoleThin(f=1.3190527861614934, name='quad_f'), Drift(l=1, name='drift_1'), QuadrupoleThin(f=-0.9181308379887323, name='quad_d'), Drift(l=1, name='drift_2'), QuadrupoleThin(f=1.3190527861614934, name='quad_f')])"
      ]
     },
     "execution_count": 17,
     "metadata": {},
     "output_type": "execute_result"
    }
   ],
   "source": [
    "matched"
   ]
  },
  {
   "cell_type": "code",
   "execution_count": 18,
   "metadata": {},
   "outputs": [],
   "source": [
    "beta, _, _, s = matched.transport(matched.m_h.twiss.invariant)"
   ]
  },
  {
   "cell_type": "code",
   "execution_count": 19,
   "metadata": {},
   "outputs": [
    {
     "data": {
      "text/plain": [
       "[<matplotlib.lines.Line2D at 0x7fdbb44d3940>]"
      ]
     },
     "execution_count": 19,
     "metadata": {},
     "output_type": "execute_result"
    },
    {
     "data": {
      "image/png": "[encoded data removed]",
      "text/plain": [
       "<Figure size 432x288 with 1 Axes>"
      ]
     },
     "metadata": {
      "needs_background": "light"
     },
     "output_type": "display_data"
    }
   ],
   "source": [
    "plt.plot(s, beta)"
   ]
  },
  {
   "cell_type": "markdown",
   "metadata": {},
   "source": [
    "# Same thing but now with constraints to set both strengths to be equal"
   ]
  },
  {
   "cell_type": "code",
   "execution_count": 20,
   "metadata": {},
   "outputs": [],
   "source": [
    "lat = Lattice([QuadrupoleThin(1.6, name='quad_f'),\n",
    "               Drift(1),\n",
    "               QuadrupoleThin(-0.8, name='quad_d'),\n",
    "               Drift(1),\n",
    "               QuadrupoleThin(1.6, name='quad_f')])\n",
    "lat.constraints.add_free_parameter(\"quad_f\", \"f\")\n",
    "lat.constraints.add_free_parameter(\"quad_d\", \"f\")\n",
    "lat.constraints.add_target(\"quad_d\", [0.5, None, None], \"twiss_solution\", \"h\")"
   ]
  },
  {
   "cell_type": "code",
   "execution_count": 21,
   "metadata": {},
   "outputs": [
    {
     "name": "stdout",
     "output_type": "stream",
     "text": [
      "CPU times: user 53.4 ms, sys: 255 µs, total: 53.7 ms\n",
      "Wall time: 52.1 ms\n"
     ]
    }
   ],
   "source": [
    "# The constraint can be read a 2*quad_f.f + quad_d.f == 0\n",
    "%time matched, opt_res = lat.constraints.match(constraints=({'type':'eq', 'fun': lambda x: 2*x[0] + x[1]}))"
   ]
  },
  {
   "cell_type": "code",
   "execution_count": 22,
   "metadata": {},
   "outputs": [
    {
     "data": {
      "text/plain": [
       "     fun: 9.032210535053764e-09\n",
       "     jac: array([ 0.93716627, -0.01022691])\n",
       " message: 'Optimization terminated successfully'\n",
       "    nfev: 49\n",
       "     nit: 11\n",
       "    njev: 11\n",
       "  status: 0\n",
       " success: True\n",
       "       x: array([ 1.28229862, -2.56459723])"
      ]
     },
     "execution_count": 22,
     "metadata": {},
     "output_type": "execute_result"
    }
   ],
   "source": [
    "opt_res"
   ]
  },
  {
   "cell_type": "code",
   "execution_count": 23,
   "metadata": {},
   "outputs": [
    {
     "data": {
      "text/plain": [
       "Lattice([QuadrupoleThin(f=1.2822986174866036, name='quad_f'), Drift(l=1, name='drift_3'), QuadrupoleThin(f=-2.564597234973207, name='quad_d'), Drift(l=1, name='drift_4'), QuadrupoleThin(f=1.2822986174866036, name='quad_f')])"
      ]
     },
     "execution_count": 23,
     "metadata": {},
     "output_type": "execute_result"
    }
   ],
   "source": [
    "matched"
   ]
  },
  {
   "cell_type": "code",
   "execution_count": 24,
   "metadata": {},
   "outputs": [],
   "source": [
    "beta, _, _, s = matched.transport(matched.m_h.twiss.invariant)"
   ]
  },
  {
   "cell_type": "code",
   "execution_count": 25,
   "metadata": {},
   "outputs": [
    {
     "data": {
      "text/plain": [
       "[<matplotlib.lines.Line2D at 0x7fdbb44bb6a0>]"
      ]
     },
     "execution_count": 25,
     "metadata": {},
     "output_type": "execute_result"
    },
    {
     "data": {
      "image/png": "[encoded data removed]",
      "text/plain": [
       "<Figure size 432x288 with 1 Axes>"
      ]
     },
     "metadata": {
      "needs_background": "light"
     },
     "output_type": "display_data"
    }
   ],
   "source": [
    "plt.plot(s, beta)"
   ]
  },
  {
   "cell_type": "markdown",
   "metadata": {},
   "source": [
    "# case where there is no twiss solution, failure expected"
   ]
  },
  {
   "cell_type": "code",
   "execution_count": 26,
   "metadata": {},
   "outputs": [],
   "source": [
    "lat = Lattice([Drift(1)])\n",
    "lat.constraints.add_target('drift', [10, None, None], 'twiss_solution', plane='h')\n",
    "lat.constraints.add_free_parameter('drift', \"l\")"
   ]
  },
  {
   "cell_type": "code",
   "execution_count": 27,
   "metadata": {},
   "outputs": [
    {
     "name": "stderr",
     "output_type": "stream",
     "text": [
      "/home/lcoyle/.cache/pypoetry/virtualenvs/accelerator-sIucFSfo-py3.6/lib/python3.6/site-packages/scipy/optimize/optimize.py:700: RuntimeWarning: invalid value encountered in subtract\n",
      "  np.max(np.abs(fsim[0] - fsim[1:])) <= fatol):\n"
     ]
    },
    {
     "data": {
      "text/plain": [
       "(Lattice([Drift(l=1.0, name='drift_5')]),\n",
       "  final_simplex: (array([[1.],\n",
       "        [1.]]), array([inf, inf]))\n",
       "            fun: inf\n",
       "        message: 'Maximum number of function evaluations has been exceeded.'\n",
       "           nfev: 200\n",
       "            nit: 67\n",
       "         status: 1\n",
       "        success: False\n",
       "              x: array([1.]))"
      ]
     },
     "execution_count": 27,
     "metadata": {},
     "output_type": "execute_result"
    }
   ],
   "source": [
    "lat.constraints.match()"
   ]
  }
 ],
 "metadata": {
  "kernelspec": {
   "display_name": "Python 3",
   "language": "python",
   "name": "python3"
  },
  "language_info": {
   "codemirror_mode": {
    "name": "ipython",
    "version": 3
   },
   "file_extension": ".py",
   "mimetype": "text/x-python",
   "name": "python",
   "nbconvert_exporter": "python",
   "pygments_lexer": "ipython3",
   "version": "3.6.9"
  }
 },
 "nbformat": 4,
 "nbformat_minor": 4
}
