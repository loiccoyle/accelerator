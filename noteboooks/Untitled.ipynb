{
 "cells": [
  {
   "cell_type": "code",
   "execution_count": 1,
   "metadata": {},
   "outputs": [],
   "source": [
    "import numpy as np\n",
    "import matplotlib.pyplot as plt"
   ]
  },
  {
   "cell_type": "code",
   "execution_count": 2,
   "metadata": {},
   "outputs": [
    {
     "data": {
      "text/plain": [
       "array([(1., 2.), (3., 4.)], dtype=[('x', '<f8'), ('y', '<f8')])"
      ]
     },
     "execution_count": 2,
     "metadata": {},
     "output_type": "execute_result"
    }
   ],
   "source": [
    "x = np.array([(1.0, 2), (3.0, 4)], dtype=[('x', np.float64), ('y', np.float64)])\n",
    "x"
   ]
  },
  {
   "cell_type": "code",
   "execution_count": 3,
   "metadata": {},
   "outputs": [],
   "source": [
    "x = x.view(np.recarray)"
   ]
  },
  {
   "cell_type": "code",
   "execution_count": 4,
   "metadata": {},
   "outputs": [],
   "source": [
    "x = np.array([1,2,3,4])"
   ]
  },
  {
   "cell_type": "code",
   "execution_count": 5,
   "metadata": {},
   "outputs": [],
   "source": [
    "x.dtype = [('x', np.float64)]"
   ]
  },
  {
   "cell_type": "code",
   "execution_count": 6,
   "metadata": {},
   "outputs": [],
   "source": [
    "x = np.array([(1.0, 2), (3.0, 4)])\n",
    "x = x.astype([('x', '<f8'), ('y', '<i8')])"
   ]
  },
  {
   "cell_type": "code",
   "execution_count": 7,
   "metadata": {},
   "outputs": [],
   "source": [
    "from accelerator import *"
   ]
  },
  {
   "cell_type": "code",
   "execution_count": 316,
   "metadata": {
    "collapsed": true
   },
   "outputs": [
    {
     "data": {
      "text/plain": [
       "TransportedTwiss(beta=array([3.46410162, 3.46410162, 1.15470054, 1.15470054, 3.46410162]), alpha=array([-1.73205081,  1.73205081,  0.57735027, -0.57735027, -1.73205081]), gamma=array([1.15470054, 1.15470054, 1.15470054, 1.15470054, 1.15470054]), s=[0, 0, 1, 1, 2])"
      ]
     },
     "execution_count": 316,
     "metadata": {},
     "output_type": "execute_result"
    }
   ],
   "source": [
    "lattice = Lattice([QuadrupoleThin(1), Drift(1), QuadrupoleThin(-1), Drift(1)])\n",
    "out = lattice.transport()\n",
    "out"
   ]
  },
  {
   "cell_type": "code",
   "execution_count": 273,
   "metadata": {},
   "outputs": [
    {
     "data": {
      "text/plain": [
       "array([3.46410162, 3.46410162, 1.15470054, 1.15470054, 3.46410162])"
      ]
     },
     "execution_count": 273,
     "metadata": {},
     "output_type": "execute_result"
    }
   ],
   "source": []
  },
  {
   "cell_type": "code",
   "execution_count": 239,
   "metadata": {},
   "outputs": [],
   "source": [
    "out = out.view([('a', '<f8'), ('b', '<f8'), ('c', '<f8')]).reshape(len(out))"
   ]
  },
  {
   "cell_type": "code",
   "execution_count": 241,
   "metadata": {},
   "outputs": [],
   "source": [
    "out = out.view(np.recarray)"
   ]
  },
  {
   "cell_type": "code",
   "execution_count": 254,
   "metadata": {},
   "outputs": [
    {
     "data": {
      "text/plain": [
       "numpy.record"
      ]
     },
     "execution_count": 254,
     "metadata": {},
     "output_type": "execute_result"
    }
   ],
   "source": [
    "type(out[0])"
   ]
  },
  {
   "cell_type": "code",
   "execution_count": 258,
   "metadata": {},
   "outputs": [
    {
     "data": {
      "text/plain": [
       "[[(3.464101615137755, 3.464101615137755, 1.1547005383792515),\n",
       "  (1.1547005383792515, 3.4641016151377535, -1.7320508075688774),\n",
       "  (1.7320508075688774, 0.577350269189626, -0.5773502691896255),\n",
       "  (-1.7320508075688765, 1.1547005383792515, 1.1547005383792515),\n",
       "  (1.1547005383792515, 1.154700538379251, 1.154700538379251)]]"
      ]
     },
     "execution_count": 258,
     "metadata": {},
     "output_type": "execute_result"
    }
   ],
   "source": [
    "[out.tolist()]"
   ]
  },
  {
   "cell_type": "code",
   "execution_count": 261,
   "metadata": {},
   "outputs": [
    {
     "data": {
      "text/plain": [
       "[<matplotlib.lines.Line2D at 0x7fb0de4b2520>,\n",
       " <matplotlib.lines.Line2D at 0x7fb0de4b26a0>]"
      ]
     },
     "execution_count": 261,
     "metadata": {},
     "output_type": "execute_result"
    },
    {
     "data": {
      "image/png": "[encoded data removed]",
      "text/plain": [
       "<Figure size 432x288 with 1 Axes>"
      ]
     },
     "metadata": {
      "needs_background": "light"
     },
     "output_type": "display_data"
    }
   ],
   "source": [
    "plt.plot(out.a, out.b, out.c)"
   ]
  },
  {
   "cell_type": "code",
   "execution_count": 170,
   "metadata": {},
   "outputs": [
    {
     "data": {
      "text/plain": [
       "dtype('float64')"
      ]
     },
     "execution_count": 170,
     "metadata": {},
     "output_type": "execute_result"
    }
   ],
   "source": [
    "out.dtype"
   ]
  },
  {
   "cell_type": "code",
   "execution_count": 168,
   "metadata": {},
   "outputs": [
    {
     "data": {
      "text/plain": [
       "array([[(0., 0., 0.)],\n",
       "       [(0., 0., 0.)],\n",
       "       [(0., 0., 0.)],\n",
       "       [(0., 0., 0.)],\n",
       "       [(0., 0., 0.)]], dtype=[('a', '<f8'), ('b', '<f8'), ('c', '<f8')])"
      ]
     },
     "execution_count": 168,
     "metadata": {},
     "output_type": "execute_result"
    }
   ],
   "source": [
    "out = np.zeros([5, 3])\n",
    "out.view([('a', '<f8'), ('b', '<f8'), ('c', '<f8')])"
   ]
  },
  {
   "cell_type": "code",
   "execution_count": 133,
   "metadata": {},
   "outputs": [
    {
     "data": {
      "text/plain": [
       "(5, 3)"
      ]
     },
     "execution_count": 133,
     "metadata": {},
     "output_type": "execute_result"
    }
   ],
   "source": [
    "out.shape"
   ]
  },
  {
   "cell_type": "code",
   "execution_count": 90,
   "metadata": {},
   "outputs": [
    {
     "data": {
      "text/plain": [
       "array([[( 3.46410162,  3.46410162,  3.46410162),\n",
       "        (-1.73205081, -1.73205081, -1.73205081),\n",
       "        ( 1.15470054,  1.15470054,  1.15470054)],\n",
       "       [( 3.46410162,  3.46410162,  3.46410162),\n",
       "        ( 1.73205081,  1.73205081,  1.73205081),\n",
       "        ( 1.15470054,  1.15470054,  1.15470054)],\n",
       "       [( 1.15470054,  1.15470054,  1.15470054),\n",
       "        ( 0.57735027,  0.57735027,  0.57735027),\n",
       "        ( 1.15470054,  1.15470054,  1.15470054)],\n",
       "       [( 1.15470054,  1.15470054,  1.15470054),\n",
       "        (-0.57735027, -0.57735027, -0.57735027),\n",
       "        ( 1.15470054,  1.15470054,  1.15470054)],\n",
       "       [( 3.46410162,  3.46410162,  3.46410162),\n",
       "        (-1.73205081, -1.73205081, -1.73205081),\n",
       "        ( 1.15470054,  1.15470054,  1.15470054)]],\n",
       "      dtype=[('a', '<f8'), ('b', '<f8'), ('c', '<f8')])"
      ]
     },
     "execution_count": 90,
     "metadata": {},
     "output_type": "execute_result"
    }
   ],
   "source": [
    "out"
   ]
  },
  {
   "cell_type": "code",
   "execution_count": 85,
   "metadata": {},
   "outputs": [
    {
     "data": {
      "text/plain": [
       "array([[ 3.46410162, -1.73205081,  1.15470054],\n",
       "       [ 3.46410162,  1.73205081,  1.15470054],\n",
       "       [ 1.15470054,  0.57735027,  1.15470054],\n",
       "       [ 1.15470054, -0.57735027,  1.15470054],\n",
       "       [ 3.46410162, -1.73205081,  1.15470054]])"
      ]
     },
     "execution_count": 85,
     "metadata": {},
     "output_type": "execute_result"
    }
   ],
   "source": [
    "out['a']"
   ]
  },
  {
   "cell_type": "code",
   "execution_count": 86,
   "metadata": {},
   "outputs": [
    {
     "data": {
      "text/plain": [
       "array([[( 3.46410162,  3.46410162,  3.46410162),\n",
       "        (-1.73205081, -1.73205081, -1.73205081),\n",
       "        ( 1.15470054,  1.15470054,  1.15470054)],\n",
       "       [( 3.46410162,  3.46410162,  3.46410162),\n",
       "        ( 1.73205081,  1.73205081,  1.73205081),\n",
       "        ( 1.15470054,  1.15470054,  1.15470054)],\n",
       "       [( 1.15470054,  1.15470054,  1.15470054),\n",
       "        ( 0.57735027,  0.57735027,  0.57735027),\n",
       "        ( 1.15470054,  1.15470054,  1.15470054)],\n",
       "       [( 1.15470054,  1.15470054,  1.15470054),\n",
       "        (-0.57735027, -0.57735027, -0.57735027),\n",
       "        ( 1.15470054,  1.15470054,  1.15470054)],\n",
       "       [( 3.46410162,  3.46410162,  3.46410162),\n",
       "        (-1.73205081, -1.73205081, -1.73205081),\n",
       "        ( 1.15470054,  1.15470054,  1.15470054)]],\n",
       "      dtype=[('a', '<f8'), ('b', '<f8'), ('c', '<f8')])"
      ]
     },
     "execution_count": 86,
     "metadata": {},
     "output_type": "execute_result"
    }
   ],
   "source": [
    "out"
   ]
  },
  {
   "cell_type": "code",
   "execution_count": 87,
   "metadata": {},
   "outputs": [
    {
     "data": {
      "text/plain": [
       "array([[( 3.46410162,  3.46410162,  3.46410162),\n",
       "        (-1.73205081, -1.73205081, -1.73205081),\n",
       "        ( 1.15470054,  1.15470054,  1.15470054)],\n",
       "       [( 3.46410162,  3.46410162,  3.46410162),\n",
       "        ( 1.73205081,  1.73205081,  1.73205081),\n",
       "        ( 1.15470054,  1.15470054,  1.15470054)],\n",
       "       [( 1.15470054,  1.15470054,  1.15470054),\n",
       "        ( 0.57735027,  0.57735027,  0.57735027),\n",
       "        ( 1.15470054,  1.15470054,  1.15470054)],\n",
       "       [( 1.15470054,  1.15470054,  1.15470054),\n",
       "        (-0.57735027, -0.57735027, -0.57735027),\n",
       "        ( 1.15470054,  1.15470054,  1.15470054)],\n",
       "       [( 3.46410162,  3.46410162,  3.46410162),\n",
       "        (-1.73205081, -1.73205081, -1.73205081),\n",
       "        ( 1.15470054,  1.15470054,  1.15470054)]],\n",
       "      dtype=[('a', '<f8'), ('b', '<f8'), ('c', '<f8')])"
      ]
     },
     "execution_count": 87,
     "metadata": {},
     "output_type": "execute_result"
    }
   ],
   "source": [
    "out.view(dtype=[('a', '<f8'), ('b', '<f8'), ('c', '<f8')])"
   ]
  },
  {
   "cell_type": "code",
   "execution_count": 53,
   "metadata": {},
   "outputs": [
    {
     "data": {
      "text/plain": [
       "array([[( 3.46410162,  3.46410162,  3.46410162),\n",
       "        (-1.73205081, -1.73205081, -1.73205081),\n",
       "        ( 1.15470054,  1.15470054,  1.15470054)],\n",
       "       [( 3.46410162,  3.46410162,  3.46410162),\n",
       "        ( 1.73205081,  1.73205081,  1.73205081),\n",
       "        ( 1.15470054,  1.15470054,  1.15470054)],\n",
       "       [( 1.15470054,  1.15470054,  1.15470054),\n",
       "        ( 0.57735027,  0.57735027,  0.57735027),\n",
       "        ( 1.15470054,  1.15470054,  1.15470054)],\n",
       "       [( 1.15470054,  1.15470054,  1.15470054),\n",
       "        (-0.57735027, -0.57735027, -0.57735027),\n",
       "        ( 1.15470054,  1.15470054,  1.15470054)],\n",
       "       [( 3.46410162,  3.46410162,  3.46410162),\n",
       "        (-1.73205081, -1.73205081, -1.73205081),\n",
       "        ( 1.15470054,  1.15470054,  1.15470054)]],\n",
       "      dtype=[('a', '<f8'), ('b', '<f8'), ('c', '<f8')])"
      ]
     },
     "execution_count": 53,
     "metadata": {},
     "output_type": "execute_result"
    }
   ],
   "source": [
    "out.astype([('a', '<f8'), ('b', '<f8'), ('c', '<f8')])"
   ]
  },
  {
   "cell_type": "code",
   "execution_count": 46,
   "metadata": {},
   "outputs": [
    {
     "data": {
      "text/plain": [
       "array([[( 3.46410162,  3.46410162,  3.46410162),\n",
       "        (-1.73205081, -1.73205081, -1.73205081),\n",
       "        ( 1.15470054,  1.15470054,  1.15470054)],\n",
       "       [( 3.46410162,  3.46410162,  3.46410162),\n",
       "        ( 1.73205081,  1.73205081,  1.73205081),\n",
       "        ( 1.15470054,  1.15470054,  1.15470054)],\n",
       "       [( 1.15470054,  1.15470054,  1.15470054),\n",
       "        ( 0.57735027,  0.57735027,  0.57735027),\n",
       "        ( 1.15470054,  1.15470054,  1.15470054)],\n",
       "       [( 1.15470054,  1.15470054,  1.15470054),\n",
       "        (-0.57735027, -0.57735027, -0.57735027),\n",
       "        ( 1.15470054,  1.15470054,  1.15470054)],\n",
       "       [( 3.46410162,  3.46410162,  3.46410162),\n",
       "        (-1.73205081, -1.73205081, -1.73205081),\n",
       "        ( 1.15470054,  1.15470054,  1.15470054)]],\n",
       "      dtype=[('a', '<f8'), ('b', '<f8'), ('c', '<f8')])"
      ]
     },
     "execution_count": 46,
     "metadata": {},
     "output_type": "execute_result"
    }
   ],
   "source": [
    "out = np.array([[ 3.46410162, -1.73205081,  1.15470054],\n",
    "                [ 3.46410162,  1.73205081,  1.15470054],\n",
    "                [ 1.15470054,  0.57735027,  1.15470054],\n",
    "                [ 1.15470054, -0.57735027,  1.15470054],\n",
    "                [ 3.46410162, -1.73205081,  1.15470054]],\n",
    "               dtype=[('a', '<f8'), ('b', '<f8'), ('c', '<f8')])\n",
    "out"
   ]
  },
  {
   "cell_type": "code",
   "execution_count": 48,
   "metadata": {},
   "outputs": [
    {
     "data": {
      "text/plain": [
       "array([[ 3.46410162, -1.73205081,  1.15470054],\n",
       "       [ 3.46410162,  1.73205081,  1.15470054],\n",
       "       [ 1.15470054,  0.57735027,  1.15470054],\n",
       "       [ 1.15470054, -0.57735027,  1.15470054],\n",
       "       [ 3.46410162, -1.73205081,  1.15470054]])"
      ]
     },
     "execution_count": 48,
     "metadata": {},
     "output_type": "execute_result"
    }
   ],
   "source": [
    "out['a']"
   ]
  },
  {
   "cell_type": "code",
   "execution_count": 45,
   "metadata": {},
   "outputs": [
    {
     "data": {
      "text/plain": [
       "array([[( 3.46410162,  3.46410162,  3.46410162),\n",
       "        (-1.73205081, -1.73205081, -1.73205081),\n",
       "        ( 1.15470054,  1.15470054,  1.15470054)],\n",
       "       [( 3.46410162,  3.46410162,  3.46410162),\n",
       "        ( 1.73205081,  1.73205081,  1.73205081),\n",
       "        ( 1.15470054,  1.15470054,  1.15470054)],\n",
       "       [( 1.15470054,  1.15470054,  1.15470054),\n",
       "        ( 0.57735027,  0.57735027,  0.57735027),\n",
       "        ( 1.15470054,  1.15470054,  1.15470054)],\n",
       "       [( 1.15470054,  1.15470054,  1.15470054),\n",
       "        (-0.57735027, -0.57735027, -0.57735027),\n",
       "        ( 1.15470054,  1.15470054,  1.15470054)],\n",
       "       [( 3.46410162,  3.46410162,  3.46410162),\n",
       "        (-1.73205081, -1.73205081, -1.73205081),\n",
       "        ( 1.15470054,  1.15470054,  1.15470054)]],\n",
       "      dtype=[('a', '<f8'), ('b', '<f8'), ('c', '<f8')])"
      ]
     },
     "execution_count": 45,
     "metadata": {},
     "output_type": "execute_result"
    }
   ],
   "source": [
    "out.astype([('a', '<f8'), ('b', '<f8'), ('c', '<f8')])"
   ]
  },
  {
   "cell_type": "code",
   "execution_count": 10,
   "metadata": {},
   "outputs": [
    {
     "ename": "ValueError",
     "evalue": "structures must have the same size",
     "output_type": "error",
     "traceback": [
      "\u001b[0;31m---------------------------------------------------------------------------\u001b[0m",
      "\u001b[0;31mValueError\u001b[0m                                Traceback (most recent call last)",
      "\u001b[0;32m<ipython-input-10-fe8b94ad4c93>\u001b[0m in \u001b[0;36m<module>\u001b[0;34m\u001b[0m\n\u001b[0;32m----> 1\u001b[0;31m \u001b[0mout\u001b[0m\u001b[0;34m.\u001b[0m\u001b[0mastype\u001b[0m\u001b[0;34m(\u001b[0m\u001b[0;34m[\u001b[0m\u001b[0;34m(\u001b[0m\u001b[0;34m'a'\u001b[0m\u001b[0;34m,\u001b[0m \u001b[0;34m'<f8'\u001b[0m\u001b[0;34m)\u001b[0m\u001b[0;34m,\u001b[0m \u001b[0;34m(\u001b[0m\u001b[0;34m'b'\u001b[0m\u001b[0;34m,\u001b[0m \u001b[0;34m\"<f8\"\u001b[0m\u001b[0;34m)\u001b[0m\u001b[0;34m,\u001b[0m \u001b[0;34m(\u001b[0m\u001b[0;34m'c'\u001b[0m\u001b[0;34m,\u001b[0m \u001b[0;34m'<f8'\u001b[0m\u001b[0;34m)\u001b[0m\u001b[0;34m,\u001b[0m \u001b[0;34m(\u001b[0m\u001b[0;34m'd'\u001b[0m\u001b[0;34m,\u001b[0m \u001b[0;34m'<f8'\u001b[0m\u001b[0;34m)\u001b[0m\u001b[0;34m]\u001b[0m\u001b[0;34m)\u001b[0m\u001b[0;34m\u001b[0m\u001b[0;34m\u001b[0m\u001b[0m\n\u001b[0m",
      "\u001b[0;31mValueError\u001b[0m: structures must have the same size"
     ]
    }
   ],
   "source": [
    "out.astype([('a', '<f8'), ('b', \"<f8\"), ('c', '<f8'), ('d', '<f8')])"
   ]
  },
  {
   "cell_type": "code",
   "execution_count": 274,
   "metadata": {},
   "outputs": [],
   "source": [
    "from collections import namedtuple"
   ]
  },
  {
   "cell_type": "code",
   "execution_count": 300,
   "metadata": {},
   "outputs": [
    {
     "name": "stderr",
     "output_type": "stream",
     "text": [
      "No handles with labels found to put in legend.\n"
     ]
    },
    {
     "data": {
      "text/plain": [
       "<matplotlib.legend.Legend at 0x7fb0de29d610>"
      ]
     },
     "execution_count": 300,
     "metadata": {},
     "output_type": "execute_result"
    },
    {
     "data": {
      "image/png": "[encoded data removed]",
      "text/plain": [
       "<Figure size 432x288 with 1 Axes>"
      ]
     },
     "metadata": {
      "needs_background": "light"
     },
     "output_type": "display_data"
    }
   ],
   "source": [
    "point = namedtuple('Point', ['beta', 'alpha', 'gamma', 's'])\n",
    "p = point(*np.array(out.tolist()).T)\n",
    "plt.plot(p.s, p[1])\n",
    "plt.legend()"
   ]
  },
  {
   "cell_type": "code",
   "execution_count": 293,
   "metadata": {},
   "outputs": [],
   "source": [
    "t, *a = p"
   ]
  },
  {
   "cell_type": "code",
   "execution_count": 294,
   "metadata": {},
   "outputs": [
    {
     "data": {
      "text/plain": [
       "[array([-1.73205081,  1.73205081,  0.57735027, -0.57735027, -1.73205081]),\n",
       " array([1.15470054, 1.15470054, 1.15470054, 1.15470054, 1.15470054]),\n",
       " array([0., 0., 1., 1., 2.])]"
      ]
     },
     "execution_count": 294,
     "metadata": {},
     "output_type": "execute_result"
    }
   ],
   "source": [
    "a"
   ]
  },
  {
   "cell_type": "code",
   "execution_count": 283,
   "metadata": {},
   "outputs": [
    {
     "ename": "SyntaxError",
     "evalue": "can't use starred expression here (<ipython-input-283-80d96c7ed68a>, line 1)",
     "output_type": "error",
     "traceback": [
      "\u001b[0;36m  File \u001b[0;32m\"<ipython-input-283-80d96c7ed68a>\"\u001b[0;36m, line \u001b[0;32m1\u001b[0m\n\u001b[0;31m    *np.array(out.tolist()).T\u001b[0m\n\u001b[0m    ^\u001b[0m\n\u001b[0;31mSyntaxError\u001b[0m\u001b[0;31m:\u001b[0m can't use starred expression here\n"
     ]
    }
   ],
   "source": [
    "*np.array(out.tolist()).T"
   ]
  },
  {
   "cell_type": "code",
   "execution_count": 313,
   "metadata": {},
   "outputs": [],
   "source": [
    "f = 0.8\n",
    "l = 1\n",
    "n_angles = 100\n",
    "FODO = Lattice(\n",
    "    [\n",
    "        QuadrupoleThin(2 * f),\n",
    "        Drift(l),\n",
    "        QuadrupoleThin(-f),\n",
    "        Drift(l),\n",
    "        QuadrupoleThin(2 * f),\n",
    "    ]\n",
    ")\n",
    "beam = Beam()\n",
    "u, u_prime, dp, s = FODO.transport(\n",
    "    beam.ellipse(FODO.m_h.twiss_solution, n_angles=n_angles)\n",
    ")\n"
   ]
  },
  {
   "cell_type": "code",
   "execution_count": 315,
   "metadata": {},
   "outputs": [
    {
     "data": {
      "text/plain": [
       "100"
      ]
     },
     "execution_count": 315,
     "metadata": {},
     "output_type": "execute_result"
    }
   ],
   "source": [
    "len(u)"
   ]
  },
  {
   "cell_type": "code",
   "execution_count": 314,
   "metadata": {},
   "outputs": [
    {
     "data": {
      "text/plain": [
       "[<matplotlib.lines.Line2D at 0x7fb0de058970>,\n",
       " <matplotlib.lines.Line2D at 0x7fb0de058a60>,\n",
       " <matplotlib.lines.Line2D at 0x7fb0de058b20>,\n",
       " <matplotlib.lines.Line2D at 0x7fb0de058be0>,\n",
       " <matplotlib.lines.Line2D at 0x7fb0de058ca0>,\n",
       " <matplotlib.lines.Line2D at 0x7fb0de058d60>]"
      ]
     },
     "execution_count": 314,
     "metadata": {},
     "output_type": "execute_result"
    },
    {
     "data": {
      "image/png": "[encoded data removed]",
      "text/plain": [
       "<Figure size 432x288 with 1 Axes>"
      ]
     },
     "metadata": {
      "needs_background": "light"
     },
     "output_type": "display_data"
    }
   ],
   "source": [
    "plt.plot(u, u_prime)"
   ]
  },
  {
   "cell_type": "code",
   "execution_count": 29,
   "metadata": {
    "scrolled": true
   },
   "outputs": [],
   "source": [
    "import numpy as np\n",
    "from functools import partial\n",
    "\n",
    "class NonLinearTerm:\n",
    "    def __init__(self,\n",
    "                 x_func: callable = None,\n",
    "                 x_prime_func: callable = None,\n",
    "                 dp_func: callable = None):\n",
    "        \n",
    "        def passthrough(x, index):\n",
    "            return x[index]\n",
    "        \n",
    "        if x_func is None:\n",
    "            x_func = partial(passthrough, index=0)\n",
    "        if x_prime_func is None:\n",
    "            x_prime_func = partial(passthrough, index=1)\n",
    "        if dp_func is None:\n",
    "            dp_func = partial(passthrough, index=2)\n",
    "        self.x_func = x_func\n",
    "        self.x_prime_func = x_prime_func\n",
    "        self.dp_func = dp_func\n",
    "\n",
    "    def __matmul__(self, other):\n",
    "        return [self.x_func(other), self.x_prime_func(other), self.dp_func(other)]"
   ]
  },
  {
   "cell_type": "code",
   "execution_count": 26,
   "metadata": {},
   "outputs": [],
   "source": [
    "test = NonLinearTerm(x_prime_func = lambda x: 2 * x[0]*x[1])"
   ]
  },
  {
   "cell_type": "code",
   "execution_count": 27,
   "metadata": {},
   "outputs": [
    {
     "name": "stdout",
     "output_type": "stream",
     "text": [
      "[0, 0, 0]\n"
     ]
    },
    {
     "data": {
      "text/plain": [
       "[0, 0, 0]"
      ]
     },
     "execution_count": 27,
     "metadata": {},
     "output_type": "execute_result"
    }
   ],
   "source": [
    "test @ [0,0,0]"
   ]
  },
  {
   "cell_type": "code",
   "execution_count": 30,
   "metadata": {},
   "outputs": [
    {
     "data": {
      "text/plain": [
       "array([[1., 0., 0.],\n",
       "       [0., 1., 0.],\n",
       "       [0., 0., 1.]])"
      ]
     },
     "execution_count": 30,
     "metadata": {},
     "output_type": "execute_result"
    }
   ],
   "source": [
    "np.identity(3)"
   ]
  }
 ],
 "metadata": {
  "kernelspec": {
   "display_name": "Python 3",
   "language": "python",
   "name": "python3"
  },
  "language_info": {
   "codemirror_mode": {
    "name": "ipython",
    "version": 3
   },
   "file_extension": ".py",
   "mimetype": "text/x-python",
   "name": "python",
   "nbconvert_exporter": "python",
   "pygments_lexer": "ipython3",
   "version": "3.8.6"
  }
 },
 "nbformat": 4,
 "nbformat_minor": 4
}
