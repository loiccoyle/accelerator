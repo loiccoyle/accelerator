{
 "cells": [
  {
   "cell_type": "code",
   "execution_count": 1,
   "metadata": {},
   "outputs": [],
   "source": [
    "%load_ext autoreload\n",
    "%autoreload 1"
   ]
  },
  {
   "cell_type": "markdown",
   "metadata": {},
   "source": [
    "# Hands on Tutorial 1\n",
    "\n",
    "# Introduction\n",
    "\n",
    "When designing a synchrotron, the first thing to do is to make sure that the particles will be transversely guided, i.e. stay in the vicinity of a given closed orbit. This is the basic idea of linear optics. In linear optics we use linear magnets, i.e. **dipoles** (constant magnetic field) and **quadrupoles** (magnetic field is linear with transverse position). Around a given ring one places a set of identical **FODO** cells, in a periodic manner. The more symmetric is a machine, the better. The FODO cell will be the basic building block of the ring. Each FODO cell is made of one **focusing quadrupole**, one or several **dipoles**, one **defocusing quadrupole** and again one or several **dipoles** (using the same number as before). Between those elements there can be some unused space, or **drift** space. In practice in a real machine, many other elements and diagnostics instruments are put in these spaces, but we do not consider them now. Note that from the point of view of linear optics in the thin lens approximation, a dipole is equivalent to a drift space (weak focusing is neglected). Dipoles are there only to guide the beam along the orbit, while quadrupoles focus it so that it stays near this orbit.\n",
    "\n",
    "In a previous tutorial, you have started the design of a small storage ring by hand. The purpose of the next four tutorials is to show that such a design can be done in an easier way using **python**. We will walk you through the first steps of the design of a collider.  The most interesting part is, however, not the coding: we would like you to understand what you are observing in the output of the code and to improve your understanding of the pysics involved. We will ask you some questions to guide you.\n",
    "\n",
    "At the end of the four sessions, you have the possibility to **hand in a small report (4-5 pages max!), summarizing your results**, i.e. plots and answers to the questions. The goal is to show that you are able to extract useful information to guide the design of a machine and to understand the physical ideas behind it. To help you write your report, try to keep track of what you are doing, e.g. collect the different plots, interpret physically the obtained results, etc.\n",
    "\n",
    "\n",
    "# Jupyter notebook\n",
    "\n",
    "You will be using [jupyter notebooks](https://jupyter.org/) to run some code. Jupyter is a web based code block frontend for [python](https://www.python.org/).\n",
    "\n",
    "For those of you who have never used python or want to brush up on the basics, we recommend  having a look at https://www.pythoncheatsheet.org/ for some syntax reminders. **No advanced knowledge of python will be required.**\n",
    "\n",
    "You will be using an accelerator tool box package, for the curious, the source code is located [here](https://github.com/loiccoyle/accelerator)."
   ]
  },
  {
   "cell_type": "code",
   "execution_count": 2,
   "metadata": {},
   "outputs": [],
   "source": [
    "# let's import everything from the toolbox\n",
    "from accelerator import *\n",
    "import numpy as np"
   ]
  },
  {
   "cell_type": "markdown",
   "metadata": {},
   "source": [
    "# Exercise 1\n",
    "\n",
    "We will the machine that you already studied in a previous tutorial. To remind you, the parameters of the this machine are listed bellow:\n",
    " * Particles: proton\n",
    " * Kinetic energy: 15 GeV\n",
    " * Circumference: 1000 m\n",
    " * Quadrupole length: 3 m\n",
    " * Dipole length: 5 m\n",
    " * Maximum magnetic field in dipoles: 2 T\n",
    " * 8 FODO cells\n",
    "\n",
    "During the last tutorial, you have found the number of FODO cells and the strength of the dipoles required to close the ring.\n",
    "\n",
    "**Set the correct values for `n_cells`, `dipole_angle` and `dipole_bending_radius`.**\n",
    "\n",
    "**What do you observe? What happens if you play with the dipole field strength? Why?**"
   ]
  },
  {
   "cell_type": "code",
   "execution_count": 3,
   "metadata": {},
   "outputs": [],
   "source": [
    "cirumference = 1000  # meters\n",
    "proton_energy = 15  # GeV\n",
    "dipole_length = 5  # meters\n",
    "dipole_B_max = 2  # T"
   ]
  },
  {
   "cell_type": "code",
   "execution_count": 4,
   "metadata": {},
   "outputs": [],
   "source": [
    "n_cells = 8  # ??\n",
    "dipole_angle = np.pi / 16  # ??"
   ]
  },
  {
   "cell_type": "code",
   "execution_count": 5,
   "metadata": {
    "scrolled": true
   },
   "outputs": [],
   "source": [
    "cell_length = cirumference / n_cells\n",
    "drift = Drift(cell_length / 6)\n",
    "dipole = DipoleThin(dipole_angle)\n",
    "# We create the repeating FODO cell (containing only dipoles)\n",
    "FODO = Lattice([drift, dipole, drift, dipole, drift, drift, dipole, drift, dipole, drift])"
   ]
  },
  {
   "cell_type": "code",
   "execution_count": 6,
   "metadata": {},
   "outputs": [
    {
     "data": {
      "text/plain": [
       "(<Figure size 432x288 with 1 Axes>,\n",
       " <AxesSubplot:xlabel='x [m]', ylabel='z [m]'>)"
      ]
     },
     "execution_count": 6,
     "metadata": {},
     "output_type": "execute_result"
    },
    {
     "data": {
      "image/png": "[encoded data removed]",
      "text/plain": [
       "<Figure size 432x288 with 1 Axes>"
      ]
     },
     "metadata": {
      "needs_background": "light"
     },
     "output_type": "display_data"
    },
    {
     "data": {
      "image/png": "[encoded data removed]",
      "text/plain": [
       "<Figure size 432x288 with 1 Axes>"
      ]
     },
     "metadata": {
      "needs_background": "light"
     },
     "output_type": "display_data"
    }
   ],
   "source": [
    "# let's have a look at our 'FODO'\n",
    "FODO.plot.lattice()\n",
    "FODO.plot.top_down()"
   ]
  },
  {
   "cell_type": "code",
   "execution_count": 7,
   "metadata": {},
   "outputs": [],
   "source": [
    "# We repeat it to create the full lattice\n",
    "lattice = FODO * n_cells"
   ]
  },
  {
   "cell_type": "code",
   "execution_count": 8,
   "metadata": {},
   "outputs": [
    {
     "data": {
      "text/plain": [
       "(<Figure size 432x288 with 1 Axes>,\n",
       " <AxesSubplot:xlabel='x [m]', ylabel='z [m]'>)"
      ]
     },
     "execution_count": 8,
     "metadata": {},
     "output_type": "execute_result"
    },
    {
     "data": {
      "image/png": "[encoded data removed]",
      "text/plain": [
       "<Figure size 432x288 with 1 Axes>"
      ]
     },
     "metadata": {
      "needs_background": "light"
     },
     "output_type": "display_data"
    }
   ],
   "source": [
    "lattice.plot.top_down()"
   ]
  },
  {
   "cell_type": "markdown",
   "metadata": {},
   "source": [
    "# Exercise 2\n",
    "\n",
    "The synchrotron obtained up to now, containing only dipoles, will not work, we have to add quadrupoles. **Why?**\n",
    "\n",
    "During the last tutorial, you computed the strength of the quadrupole in the FODO cell, such that the maximum of the β-function is 300 m. In the approximation that was used the maximum of the function in a FODO cell is given by:\n",
    "\n",
    "$\\beta_{max} = \\frac{2f (1+\\frac{L}{4f})}{\\sqrt{1 - \\frac{L^2}{16f^2}}}$\n",
    "\n",
    "**What is the approximation used in this formula?** Solving this equation for $\\beta_{max}= 300m$ you should have found in Tutorial 4 the integrated gradient, i.e. the inverse of the focal length, as well as the quadrupolar strength."
   ]
  },
  {
   "cell_type": "code",
   "execution_count": 9,
   "metadata": {},
   "outputs": [],
   "source": [
    "quad_focal_length = 1 / 8.89e-3 # ??"
   ]
  },
  {
   "cell_type": "code",
   "execution_count": 10,
   "metadata": {},
   "outputs": [],
   "source": [
    "quad_f = Quadrupole(2*quad_focal_length, name=\"quad_f\")\n",
    "quad_d = Quadrupole(-quad_focal_length, name=\"quad_d\")\n",
    "# We take the same FODO as exercise 1 and add some quadupoles\n",
    "FODO = Lattice([quad_f, drift, dipole, drift, dipole, drift,\n",
    "                quad_d, drift, dipole, drift, dipole, drift])"
   ]
  },
  {
   "cell_type": "code",
   "execution_count": 11,
   "metadata": {},
   "outputs": [
    {
     "data": {
      "text/plain": [
       "(<Figure size 432x288 with 1 Axes>,\n",
       " <AxesSubplot:xlabel='x [m]', ylabel='z [m]'>)"
      ]
     },
     "execution_count": 11,
     "metadata": {},
     "output_type": "execute_result"
    },
    {
     "data": {
      "image/png": "[encoded data removed]",
      "text/plain": [
       "<Figure size 432x288 with 1 Axes>"
      ]
     },
     "metadata": {
      "needs_background": "light"
     },
     "output_type": "display_data"
    },
    {
     "data": {
      "image/png": "[encoded data removed]",
      "text/plain": [
       "<Figure size 432x288 with 1 Axes>"
      ]
     },
     "metadata": {
      "needs_background": "light"
     },
     "output_type": "display_data"
    }
   ],
   "source": [
    "# let's have a look at our 'FODO'\n",
    "FODO.plot.lattice()\n",
    "FODO.plot.top_down()"
   ]
  },
  {
   "cell_type": "code",
   "execution_count": 12,
   "metadata": {},
   "outputs": [],
   "source": [
    "# We repeat it to create the full lattice\n",
    "lattice = FODO * n_cells"
   ]
  },
  {
   "cell_type": "code",
   "execution_count": 13,
   "metadata": {},
   "outputs": [
    {
     "data": {
      "text/plain": [
       "(<Figure size 432x288 with 1 Axes>,\n",
       " <AxesSubplot:xlabel='x [m]', ylabel='z [m]'>)"
      ]
     },
     "execution_count": 13,
     "metadata": {},
     "output_type": "execute_result"
    },
    {
     "data": {
      "image/png": "[encoded data removed]",
      "text/plain": [
       "<Figure size 432x288 with 1 Axes>"
      ]
     },
     "metadata": {
      "needs_background": "light"
     },
     "output_type": "display_data"
    }
   ],
   "source": [
    "lattice.plot.top_down()"
   ]
  },
  {
   "cell_type": "code",
   "execution_count": 14,
   "metadata": {
    "scrolled": true
   },
   "outputs": [],
   "source": [
    "from accelerator.utils import compute_twiss_invariant\n",
    "twiss_initial = FODO.m_h.twiss.invariant\n",
    "twiss_initial"
   ]
  },
  {
   "cell_type": "code",
   "execution_count": 15,
   "metadata": {},
   "outputs": [
    {
     "data": {
      "text/plain": [
       "[Quadrupole(f=224.97187851518558, name='quad_f'),\n",
       " Drift(l=20.833333333333332, name='drift_0'),\n",
       " DipoleThin(theta=0.19634954084936207, name='dipole_thin_0'),\n",
       " Drift(l=20.833333333333332, name='drift_0'),\n",
       " DipoleThin(theta=0.19634954084936207, name='dipole_thin_0'),\n",
       " Drift(l=20.833333333333332, name='drift_0'),\n",
       " Quadrupole(f=-112.48593925759279, name='quad_d'),\n",
       " Drift(l=20.833333333333332, name='drift_0'),\n",
       " DipoleThin(theta=0.19634954084936207, name='dipole_thin_0'),\n",
       " Drift(l=20.833333333333332, name='drift_0'),\n",
       " DipoleThin(theta=0.19634954084936207, name='dipole_thin_0'),\n",
       " Drift(l=20.833333333333332, name='drift_0')]"
      ]
     },
     "execution_count": 15,
     "metadata": {},
     "output_type": "execute_result"
    }
   ],
   "source": [
    "FODO"
   ]
  },
  {
   "cell_type": "code",
   "execution_count": 16,
   "metadata": {},
   "outputs": [
    {
     "ename": "NameError",
     "evalue": "name 'initial_twiss' is not defined",
     "output_type": "error",
     "traceback": [
      "\u001b[0;31m---------------------------------------------------------------------------\u001b[0m",
      "\u001b[0;31mNameError\u001b[0m                                 Traceback (most recent call last)",
      "\u001b[0;32m<ipython-input-16-693374aef773>\u001b[0m in \u001b[0;36m<module>\u001b[0;34m\u001b[0m\n\u001b[0;32m----> 1\u001b[0;31m \u001b[0minitial_twiss\u001b[0m \u001b[0;34m/\u001b[0m \u001b[0mnp\u001b[0m\u001b[0;34m.\u001b[0m\u001b[0msqrt\u001b[0m\u001b[0;34m(\u001b[0m\u001b[0mcompute_twiss_clojure\u001b[0m\u001b[0;34m(\u001b[0m\u001b[0mintitial_twiss\u001b[0m\u001b[0;34m)\u001b[0m\u001b[0;34m)\u001b[0m\u001b[0;34m\u001b[0m\u001b[0;34m\u001b[0m\u001b[0m\n\u001b[0m",
      "\u001b[0;31mNameError\u001b[0m: name 'initial_twiss' is not defined"
     ]
    }
   ],
   "source": [
    "initial_twiss / np.sqrt(compute_twiss_clojure(intitial_twiss))"
   ]
  },
  {
   "cell_type": "code",
   "execution_count": null,
   "metadata": {},
   "outputs": [],
   "source": [
    "np.linalg.eig(lattice.m_h.twiss)"
   ]
  },
  {
   "cell_type": "markdown",
   "metadata": {},
   "source": []
  }
 ],
 "metadata": {
  "kernelspec": {
   "display_name": "Python 3",
   "language": "python",
   "name": "python3"
  },
  "language_info": {
   "codemirror_mode": {
    "name": "ipython",
    "version": 3
   },
   "file_extension": ".py",
   "mimetype": "text/x-python",
   "name": "python",
   "nbconvert_exporter": "python",
   "pygments_lexer": "ipython3",
   "version": "3.6.9"
  }
 },
 "nbformat": 4,
 "nbformat_minor": 4
}
